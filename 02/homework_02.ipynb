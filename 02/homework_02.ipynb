{
 "cells": [
  {
   "cell_type": "markdown",
   "id": "0cf75ab4-bd4d-4ec2-a708-74797dbfce44",
   "metadata": {},
   "source": [
    "# Úkol č. 2 - regrese\n",
    "\n",
    "* Termíny jsou uvedeny na [courses.fit.cvut.cz](https://courses.fit.cvut.cz/BI-ML1/homeworks/index.html).\n",
    "* Pokud odevzdáte úkol po prvním termínu ale před nejzazším termínem, budete penalizování -12 body, pozdější odevzdání je bez bodu.\n",
    "* V rámci tohoto úkolu se musíte vypořádat s regresní úlohou, s příznaky různých typů a s chybějícími hodnotami.\n",
    "* Před tím, než na nich postavíte predikční model, je třeba je nějakým způsobem převést do číselné reprezentace.\n",
    "    \n",
    "> **Úkoly jsou zadány tak, aby Vám daly prostor pro invenci. Vymyslet _jak přesně_ budete úkol řešit, je důležitou součástí zadání a originalita či nápaditost bude také hodnocena!**\n",
    "\n",
    "Využívejte buňky typu `Markdown` k vysvětlování Vašeho postupu. Za nepřehlednost budeme strhávat body.\n",
    "\n",
    "## Zdroj dat\n",
    "\n",
    "Budeme se zabývat predikcí délky dožití v různých zemích a letech.\n",
    "K dispozici máte trénovací data v souboru `data.csv` a data na vyhodnocení v souboru `evaluation.csv`.\n",
    "\n",
    "#### Seznam příznaků:\n",
    "\n",
    "* Year - Rok\n",
    "* Status - Status rozvinuté nebo rozvojové země\n",
    "* Life expectancy - Délka dožití v letech - **cílová proměnná, kterou budete predikovat**\n",
    "* Adult Mortality - Úmrtnost dospělých bez ohledu na pohlaví (pravděpodobnost, že osoby, které dosáhly věku 15 let, zemřou před dosažením věku 60 let (uvedeno na 1 000 osob)).\n",
    "* infant deaths - počet zemřelých kojenců na 1000 obyvatel\n",
    "* Alcohol - Alkohol, zaznamenaná spotřeba na obyvatele (15+) (v litrech čistého alkoholu)\n",
    "* percentage expenditure - Výdaje na zdravotnictví v procentech hrubého domácího produktu na obyvatele (%)\n",
    "* Hepatitis B - pokrytí očkováním proti hepatitidě B (HepB) u dětí ve věku 1 roku (%)\n",
    "* Measles - Spalničky - počet hlášených případů na 1000 obyvatel\n",
    "* BMI - průměrný index tělesné hmotnosti celé populace\n",
    "* under-five deaths - počet úmrtí dětí do pěti let na 1000 obyvatel\n",
    "* Polio - proočkovanost proti dětské obrně (Pol3) u dětí ve věku 1 roku (%)\n",
    "* Total expenditure - Výdaje vládních institucí na zdravotnictví jako procento celkových vládních výdajů (%)\n",
    "* Diphtheria - pokrytí očkováním proti záškrtu, tetanu a černému kašli (DTP3) u jednoletých dětí (%)\n",
    "* HIV/AIDS - počet úmrtí na 1 000 živě narozených dětí na HIV/AIDS (0-4 roky)\n",
    "* GDP - hrubý domácí produkt na obyvatele (v USD)\n",
    "* Population - počet obyvatel země\n",
    "* thinness 1-19 years - podíl dětí ve věku 10-19 let s indexem tělesné hmotnosti (BMI) menším než 2 směrodatné odchylky pod mediánem (%)\n",
    "* thinness 5-9 years - podíl dětí ve věku 5-9 let s indexem tělesné hmotnosti (BMI) menším než 2 směrodatné odchylky pod mediánem (%)\n",
    "* Income composition of resources - Index lidského rozvoje z hlediska příjmového složení zdrojů (index v rozmezí 0 až 1)\n",
    "* Schooling - počet let školní docházky (roky)\n",
    "\n",
    "\n",
    "## Pokyny k vypracování\n",
    "\n",
    "**Body zadání**, za jejichž (poctivé) vypracování získáte **25 bodů**: \n",
    "  * V notebooku načtěte data ze souboru `data.csv`. Vhodným způsobem si je rozdělte na podmnožiny, které Vám poslouží pro trénování (trénovací), porovnávání modelů (validační) a následnou predikci výkonnosti finálního modelu (testovací).\n",
    "    \n",
    "  * Proveďte základní předzpracování dat:\n",
    "    * Projděte si jednotlivé příznaky a transformujte je do vhodné podoby pro použití ve vybraném regresním modelu.\n",
    "    * Nějakým způsobem se vypořádejte s chybějícími hodnotami. _Pozor na metodické chyby!_\n",
    "    * Můžete využívat i vizualizace. Vše stručně ale náležitě komentujte.\n",
    "<br /><br />\n",
    "  * Vytvořte **vlastní implementaci náhodného lesa**. Použijte k tomu níže předpřipravenou kostru.\n",
    "  \n",
    "  * Na připravená data postupně aplikujte Vaši předchozí implementaci modelu náhodného lesa, dále jeden z modelů **lineární regrese** nebo **hřebenové regrese**, a alespoň jeden další model podle Vašeho uvážení, přičemž pro každý z těchto modelů přiměřeně:\n",
    "    * Okomentujte vhodnost daného modelu pro daný typ úlohy.\n",
    "    * Experimentujte s normalizací (standardizace/min-max), pokud pro daný model očekáváte její příznivý vliv.\n",
    "    * Vyberte si hlavní hyperparametry k ladění a najděte jejich nejlepší hodnoty (vzhledem k RMSE).\n",
    "    * Pro model s nejlepšími hodnotami hyperparametrů určete jeho chybu pomocí RMSE a MAE. _Pozor na metodické chyby!_\n",
    "    * Získané výsledky vždy řádně okomentujte.\n",
    "<br /><br />\n",
    "  * Ze všech zkoušených možností v předchozím kroku vyberte finální model a odhadněte, jakou chybu (RMSE) můžete očekávat na nových datech, která jste doposud neměli k dispozici. _Pozor na metodické chyby!_\n",
    "    \n",
    "  * Nakonec načtěte vyhodnocovací data ze souboru `evaluation.csv`. Pomocí finálního modelu napočítejte predikce pro tato data. Vytvořte soubor `results.csv`, ve kterém získané predikce uložíte s využitím tří sloupců: **Country**, **Year** a **Life expectancy**. Tento soubor též odevzdejte (uložte do repozitáře vedle notebooku).\n",
    "\n",
    "  * Ukázka prvních řádků souboru `results.csv`:\n",
    "  \n",
    "```\n",
    "Country,Year,Life expectancy\n",
    "Peru,2012,71.4\n",
    "Peru,2013,72.6\n",
    "...\n",
    "```\n",
    "\n",
    "\n",
    "## Poznámky k odevzdání\n",
    "\n",
    "  * Řiďte se pokyny ze stránky https://courses.fit.cvut.cz/BI-ML1/homeworks/index.html."
   ]
  },
  {
   "cell_type": "code",
   "execution_count": 103,
   "id": "280dc5d5-087b-4060-bd0a-c950c91f0533",
   "metadata": {
    "ExecuteTime": {
     "end_time": "2023-12-10T20:24:45.947531900Z",
     "start_time": "2023-12-10T20:24:45.785500100Z"
    }
   },
   "outputs": [],
   "source": [
    "# Váš kód zde\n",
    "from sklearn.tree import DecisionTreeRegressor\n",
    "import numpy as np\n",
    "\n",
    "########################################################\n",
    "# Předpřipravená kostra modelu náhodného lesa\n",
    "class CustomRandomForest:\n",
    "    \"\"\"\n",
    "    Třída Vašeho modelu\n",
    "    Bude se jednat o model náhodného lesa, kde podmodely tvoří rozhodovací stromy pro regresi.\n",
    "    Pro podmodely můžete použít implementaci DecisionTreeRegressor ze sklearn.\n",
    "    \"\"\"\n",
    "    def __init__(self, n_estimators, max_samples, max_depth, **kwargs):\n",
    "        \"\"\"\n",
    "        Konstruktor modelu\n",
    "        Základní hyperparametery:\n",
    "            n_estimators - počet podmodelů - rozhodovacích stromů.\n",
    "            max_samples - vyberte si, zda tento parametr bude označovat relativní počet bodů (tj. číslo mezi 0 a 1) \n",
    "                          nebo absolutní počet bodů (tj. číslo mezi 1 a velikostí trénovací množiny), \n",
    "                          které budou pro každý podmodel rozhodovacího stromu náhodně vybrány z trénovací množiny (bootstrap) a použity k jeho trénování.\n",
    "            max_depth - maximální hloubka každého z podmodelů rozhodovacího stromu.\n",
    "            kwargs - (volitelně) případné další hyperparametry, které pošlete do podmodelů rozhodovacího stromu\n",
    "        \"\"\"\n",
    "        self.n_estimators = n_estimators\n",
    "        self.max_samples = max_samples\n",
    "        self.max_depth = max_depth\n",
    "        self.kwargs = kwargs\n",
    "        self.models = []\n",
    "        self.random_seed = 666\n",
    "        \n",
    "    def fit(self, X, y):\n",
    "        \"\"\"\n",
    "        Natrénování modelu. Trénovací data jsou v argumentech X a y.\n",
    "        Pro trénování podmodelů používejte bootstraping a velikost samplovaného vzorku vezměte z hyperparametru max_samples_fraction\n",
    "        \"\"\"\n",
    "        for _ in range(self.n_estimators):\n",
    "\n",
    "            X_selected = X.sample(n=self.max_samples, replace=True, random_state=self.random_seed)\n",
    "            y_selected = y.sample(n=self.max_samples, replace=True, random_state=self.random_seed)\n",
    "            \n",
    "            tree = DecisionTreeRegressor(max_depth=self.max_depth)\n",
    "            tree.fit(X_selected, y_selected)\n",
    "            \n",
    "            self.models.append(tree)\n",
    "        \n",
    "    def predict(self, X):\n",
    "        \"\"\"\n",
    "        Predikce y v zadaných bodech X\n",
    "        \"\"\"\n",
    "        ypredicted = np.zeros((X.shape[0],))\n",
    "        \n",
    "        for tree in self.models:\n",
    "            ypredicted += tree.predict(X) # add 1 or 0 from each tree in forest\n",
    "        \n",
    "        ypredicted /= self.n_estimators # get real prediction from all trees\n",
    "        return ypredicted\n",
    "\n",
    "    "
   ]
  },
  {
   "cell_type": "code",
   "execution_count": 104,
   "id": "8216231d-137d-4a04-b8f8-5e088e6ac6bb",
   "metadata": {
    "ExecuteTime": {
     "end_time": "2023-12-10T20:24:46.027531200Z",
     "start_time": "2023-12-10T20:24:45.925667300Z"
    }
   },
   "outputs": [],
   "source": [
    "import pandas as pd\n",
    "from sklearn.model_selection import train_test_split\n",
    "\n",
    "\n",
    "data = pd.read_csv('data.csv')\n",
    "\n",
    "X = data.drop('Life expectancy', axis=1)\n",
    "y = data['Life expectancy']\n"
   ]
  },
  {
   "cell_type": "code",
   "execution_count": 105,
   "outputs": [],
   "source": [
    "random_seed = 666\n",
    "\n",
    "Xtrain, Xtest, Ytrain, Ytest = train_test_split(X, y, test_size=0.25, random_state=random_seed)\n",
    "Xtrain, Xval, Ytrain, Yval = train_test_split(Xtrain, Ytrain, test_size=0.25, random_state=random_seed)"
   ],
   "metadata": {
    "collapsed": false,
    "ExecuteTime": {
     "end_time": "2023-12-10T20:24:46.050853800Z",
     "start_time": "2023-12-10T20:24:46.031061500Z"
    }
   },
   "id": "9871d5cc8091a63a"
  },
  {
   "cell_type": "code",
   "execution_count": 106,
   "outputs": [
    {
     "name": "stdout",
     "output_type": "stream",
     "text": [
      "Velikost trénovací množiny: 1528\n",
      "Velikost validační množiny: 510\n",
      "Velikost testovací množiny: 680\n"
     ]
    }
   ],
   "source": [
    "print(\"Velikost trénovací množiny:\", len(Xtrain))\n",
    "print(\"Velikost validační množiny:\", len(Xval))\n",
    "print(\"Velikost testovací množiny:\", len(Xtest))"
   ],
   "metadata": {
    "collapsed": false,
    "ExecuteTime": {
     "end_time": "2023-12-10T20:24:46.092753800Z",
     "start_time": "2023-12-10T20:24:46.051857600Z"
    }
   },
   "id": "9c61f0b11c8b61be"
  },
  {
   "cell_type": "code",
   "execution_count": 107,
   "outputs": [
    {
     "name": "stdout",
     "output_type": "stream",
     "text": [
      "<class 'pandas.core.frame.DataFrame'>\n",
      "Index: 1528 entries, 2028 to 209\n",
      "Data columns (total 21 columns):\n",
      " #   Column                           Non-Null Count  Dtype  \n",
      "---  ------                           --------------  -----  \n",
      " 0   Country                          1528 non-null   object \n",
      " 1   Year                             1528 non-null   int64  \n",
      " 2   Status                           1528 non-null   object \n",
      " 3   Adult Mortality                  1528 non-null   float64\n",
      " 4   infant deaths                    1528 non-null   int64  \n",
      " 5   Alcohol                          1453 non-null   float64\n",
      " 6   percentage expenditure           1528 non-null   float64\n",
      " 7   Hepatitis B                      1227 non-null   float64\n",
      " 8   Measles                          1528 non-null   int64  \n",
      " 9   BMI                              1513 non-null   float64\n",
      " 10  under-five deaths                1528 non-null   int64  \n",
      " 11  Polio                            1522 non-null   float64\n",
      " 12  Total expenditure                1431 non-null   float64\n",
      " 13  Diphtheria                       1522 non-null   float64\n",
      " 14  HIV/AIDS                         1528 non-null   float64\n",
      " 15  GDP                              1298 non-null   float64\n",
      " 16  Population                       1187 non-null   float64\n",
      " 17  thinness  1-19 years             1513 non-null   float64\n",
      " 18  thinness 5-9 years               1513 non-null   float64\n",
      " 19  Income composition of resources  1445 non-null   float64\n",
      " 20  Schooling                        1445 non-null   float64\n",
      "dtypes: float64(15), int64(4), object(2)\n",
      "memory usage: 262.6+ KB\n"
     ]
    },
    {
     "data": {
      "text/plain": "None"
     },
     "metadata": {},
     "output_type": "display_data"
    },
    {
     "name": "stdout",
     "output_type": "stream",
     "text": [
      "Dtype sloupců s null hodnotami:\n",
      "Alcohol                            float64\n",
      "Hepatitis B                        float64\n",
      "BMI                                float64\n",
      "Polio                              float64\n",
      "Total expenditure                  float64\n",
      "Diphtheria                         float64\n",
      "GDP                                float64\n",
      "Population                         float64\n",
      "thinness  1-19 years               float64\n",
      "thinness 5-9 years                 float64\n",
      "Income composition of resources    float64\n",
      "Schooling                          float64\n",
      "dtype: object\n"
     ]
    }
   ],
   "source": [
    "import matplotlib.pyplot as plt\n",
    "import seaborn as sns\n",
    "from sklearn.impute import SimpleImputer\n",
    "from sklearn.preprocessing import OneHotEncoder\n",
    "\n",
    "display(Xtrain.info())\n",
    "columns_with_null = data.columns[data.isnull().any()].tolist()\n",
    "columns_with_null_dtype = data[data.columns[data.isnull().any()]].dtypes\n",
    "# print(\"Sloupce s null hodnotami:\", columns_with_null)\n",
    "print(\"Dtype sloupců s null hodnotami:\")\n",
    "print(columns_with_null_dtype)"
   ],
   "metadata": {
    "collapsed": false,
    "ExecuteTime": {
     "end_time": "2023-12-10T20:24:46.117789800Z",
     "start_time": "2023-12-10T20:24:46.072037600Z"
    }
   },
   "id": "c6947ce95e0fb108"
  },
  {
   "cell_type": "code",
   "execution_count": 108,
   "outputs": [],
   "source": [
    "def replace_nan_mean(dataset, column):\n",
    "    # get mean values depending on training data a fill NaN with mean of this current country to get accurate value as possible\n",
    "    # because for example alcohol in Czech republic and muslim country will not be as accurate as it could have been\n",
    "    # if country whole column is null then replace it with mean from whole train data in this column\n",
    "    \n",
    "    mean_values = Xtrain.groupby('Country')[column].mean()\n",
    "    overall_mean = Xtrain[column].mean()\n",
    "    \n",
    "    for country, mean_value in mean_values.items():\n",
    "        if not pd.isnull(mean_value):\n",
    "            mask = (dataset['Country'] == country) & (dataset[column].isnull())\n",
    "            dataset.loc[mask, column] = mean_value\n",
    "        else:\n",
    "            mask = (dataset['Country'] == country) & (dataset[column].isnull())\n",
    "            dataset.loc[mask, column] = overall_mean\n",
    "        "
   ],
   "metadata": {
    "collapsed": false,
    "ExecuteTime": {
     "end_time": "2023-12-10T20:24:46.223477200Z",
     "start_time": "2023-12-10T20:24:46.125749400Z"
    }
   },
   "id": "a927627f0d52d8ba"
  },
  {
   "cell_type": "code",
   "execution_count": 109,
   "outputs": [],
   "source": [
    "for column_with_null in columns_with_null:\n",
    "    replace_nan_mean(Xtrain, column_with_null)\n",
    "\n",
    "for column_with_null in columns_with_null:\n",
    "    replace_nan_mean(Xval, column_with_null)\n",
    "    \n",
    "for column_with_null in columns_with_null:\n",
    "    replace_nan_mean(Xtest, column_with_null)\n",
    "    \n",
    "Xtrain = Xtrain.drop('Country', axis=1)\n",
    "Xval = Xval.drop('Country', axis=1)\n",
    "Xtest = Xtest.drop('Country', axis=1)"
   ],
   "metadata": {
    "collapsed": false,
    "ExecuteTime": {
     "end_time": "2023-12-10T20:24:48.837319700Z",
     "start_time": "2023-12-10T20:24:46.214470400Z"
    }
   },
   "id": "3114d962f9e0c5b8"
  },
  {
   "cell_type": "code",
   "execution_count": 110,
   "outputs": [
    {
     "name": "stdout",
     "output_type": "stream",
     "text": [
      "<class 'pandas.core.frame.DataFrame'>\n",
      "Index: 1528 entries, 2028 to 209\n",
      "Data columns (total 20 columns):\n",
      " #   Column                           Non-Null Count  Dtype  \n",
      "---  ------                           --------------  -----  \n",
      " 0   Year                             1528 non-null   int64  \n",
      " 1   Status                           1528 non-null   object \n",
      " 2   Adult Mortality                  1528 non-null   float64\n",
      " 3   infant deaths                    1528 non-null   int64  \n",
      " 4   Alcohol                          1528 non-null   float64\n",
      " 5   percentage expenditure           1528 non-null   float64\n",
      " 6   Hepatitis B                      1528 non-null   float64\n",
      " 7   Measles                          1528 non-null   int64  \n",
      " 8   BMI                              1528 non-null   float64\n",
      " 9   under-five deaths                1528 non-null   int64  \n",
      " 10  Polio                            1528 non-null   float64\n",
      " 11  Total expenditure                1528 non-null   float64\n",
      " 12  Diphtheria                       1528 non-null   float64\n",
      " 13  HIV/AIDS                         1528 non-null   float64\n",
      " 14  GDP                              1528 non-null   float64\n",
      " 15  Population                       1528 non-null   float64\n",
      " 16  thinness  1-19 years             1528 non-null   float64\n",
      " 17  thinness 5-9 years               1528 non-null   float64\n",
      " 18  Income composition of resources  1528 non-null   float64\n",
      " 19  Schooling                        1528 non-null   float64\n",
      "dtypes: float64(15), int64(4), object(1)\n",
      "memory usage: 250.7+ KB\n"
     ]
    },
    {
     "data": {
      "text/plain": "None"
     },
     "metadata": {},
     "output_type": "display_data"
    },
    {
     "name": "stdout",
     "output_type": "stream",
     "text": [
      "<class 'pandas.core.frame.DataFrame'>\n",
      "Index: 510 entries, 113 to 1864\n",
      "Data columns (total 20 columns):\n",
      " #   Column                           Non-Null Count  Dtype  \n",
      "---  ------                           --------------  -----  \n",
      " 0   Year                             510 non-null    int64  \n",
      " 1   Status                           510 non-null    object \n",
      " 2   Adult Mortality                  510 non-null    float64\n",
      " 3   infant deaths                    510 non-null    int64  \n",
      " 4   Alcohol                          510 non-null    float64\n",
      " 5   percentage expenditure           510 non-null    float64\n",
      " 6   Hepatitis B                      510 non-null    float64\n",
      " 7   Measles                          510 non-null    int64  \n",
      " 8   BMI                              510 non-null    float64\n",
      " 9   under-five deaths                510 non-null    int64  \n",
      " 10  Polio                            510 non-null    float64\n",
      " 11  Total expenditure                510 non-null    float64\n",
      " 12  Diphtheria                       510 non-null    float64\n",
      " 13  HIV/AIDS                         510 non-null    float64\n",
      " 14  GDP                              510 non-null    float64\n",
      " 15  Population                       510 non-null    float64\n",
      " 16  thinness  1-19 years             510 non-null    float64\n",
      " 17  thinness 5-9 years               510 non-null    float64\n",
      " 18  Income composition of resources  510 non-null    float64\n",
      " 19  Schooling                        510 non-null    float64\n",
      "dtypes: float64(15), int64(4), object(1)\n",
      "memory usage: 83.7+ KB\n"
     ]
    },
    {
     "data": {
      "text/plain": "None"
     },
     "metadata": {},
     "output_type": "display_data"
    }
   ],
   "source": [
    "display(Xtrain.info())\n",
    "display(Xval.info())"
   ],
   "metadata": {
    "collapsed": false,
    "ExecuteTime": {
     "end_time": "2023-12-10T20:24:48.855004100Z",
     "start_time": "2023-12-10T20:24:48.838328Z"
    }
   },
   "id": "a024963cc1dfbfe"
  },
  {
   "cell_type": "code",
   "execution_count": 111,
   "outputs": [],
   "source": [
    "X_train_encoded = pd.get_dummies(Xtrain, columns=['Status'], drop_first=True)\n",
    "X_val_encoded = pd.get_dummies(Xval, columns=['Status'], drop_first=True)\n",
    "X_test_encoded = pd.get_dummies(Xtest, columns=['Status'], drop_first=True)"
   ],
   "metadata": {
    "collapsed": false,
    "ExecuteTime": {
     "end_time": "2023-12-10T20:24:48.870270500Z",
     "start_time": "2023-12-10T20:24:48.855004100Z"
    }
   },
   "id": "29c86e3eae1e706a"
  },
  {
   "cell_type": "code",
   "execution_count": 112,
   "outputs": [
    {
     "name": "stdout",
     "output_type": "stream",
     "text": [
      "<class 'pandas.core.frame.DataFrame'>\n",
      "Index: 1528 entries, 2028 to 209\n",
      "Data columns (total 20 columns):\n",
      " #   Column                           Non-Null Count  Dtype  \n",
      "---  ------                           --------------  -----  \n",
      " 0   Year                             1528 non-null   int64  \n",
      " 1   Adult Mortality                  1528 non-null   float64\n",
      " 2   infant deaths                    1528 non-null   int64  \n",
      " 3   Alcohol                          1528 non-null   float64\n",
      " 4   percentage expenditure           1528 non-null   float64\n",
      " 5   Hepatitis B                      1528 non-null   float64\n",
      " 6   Measles                          1528 non-null   int64  \n",
      " 7   BMI                              1528 non-null   float64\n",
      " 8   under-five deaths                1528 non-null   int64  \n",
      " 9   Polio                            1528 non-null   float64\n",
      " 10  Total expenditure                1528 non-null   float64\n",
      " 11  Diphtheria                       1528 non-null   float64\n",
      " 12  HIV/AIDS                         1528 non-null   float64\n",
      " 13  GDP                              1528 non-null   float64\n",
      " 14  Population                       1528 non-null   float64\n",
      " 15  thinness  1-19 years             1528 non-null   float64\n",
      " 16  thinness 5-9 years               1528 non-null   float64\n",
      " 17  Income composition of resources  1528 non-null   float64\n",
      " 18  Schooling                        1528 non-null   float64\n",
      " 19  Status_Developing                1528 non-null   bool   \n",
      "dtypes: bool(1), float64(15), int64(4)\n",
      "memory usage: 240.2 KB\n"
     ]
    },
    {
     "data": {
      "text/plain": "None"
     },
     "metadata": {},
     "output_type": "display_data"
    }
   ],
   "source": [
    "display(X_train_encoded.info())"
   ],
   "metadata": {
    "collapsed": false,
    "ExecuteTime": {
     "end_time": "2023-12-10T20:24:48.929576200Z",
     "start_time": "2023-12-10T20:24:48.864234500Z"
    }
   },
   "id": "2ec0c3b106b9a128"
  },
  {
   "cell_type": "code",
   "execution_count": 113,
   "outputs": [],
   "source": [
    "n_estimators_values = range(5, 36, 5)\n",
    "max_depth_values = range(3, 9)\n",
    "max_samples_values = range(1, len(X_train_encoded), 100)\n",
    "best_score = float('inf') \n",
    "best_params = None\n"
   ],
   "metadata": {
    "collapsed": false,
    "ExecuteTime": {
     "end_time": "2023-12-10T20:24:48.929576200Z",
     "start_time": "2023-12-10T20:24:48.873829500Z"
    }
   },
   "id": "7a838092ce86bb07"
  },
  {
   "cell_type": "code",
   "execution_count": 114,
   "outputs": [],
   "source": [
    "from sklearn.metrics import mean_squared_error\n",
    "\n",
    "for n_estimators in n_estimators_values:\n",
    "    for max_depth in max_depth_values:\n",
    "        for max_samples in max_samples_values:\n",
    "            curent_forest = CustomRandomForest(n_estimators=n_estimators, max_depth=max_depth, max_samples=max_samples)\n",
    "            curent_forest.fit(X_train_encoded, Ytrain)\n",
    "            y_pred = curent_forest.predict(X_val_encoded)\n",
    "            mse = mean_squared_error(Yval, y_pred, squared=False)\n",
    "\n",
    "            if mse < best_score:\n",
    "                best_score = mse\n",
    "                best_params = {'n_estimators': n_estimators, 'max_depth': max_depth, 'max_samples': max_samples, 'rmse' : mse}\n"
   ],
   "metadata": {
    "collapsed": false,
    "ExecuteTime": {
     "end_time": "2023-12-10T20:26:57.369082200Z",
     "start_time": "2023-12-10T20:24:48.879576800Z"
    }
   },
   "id": "424742abd2c9fc95"
  },
  {
   "cell_type": "code",
   "execution_count": 115,
   "outputs": [],
   "source": [
    "from sklearn.preprocessing import StandardScaler, MinMaxScaler\n",
    "\n",
    "standard_scaler = StandardScaler()\n",
    "min_max_scaler = MinMaxScaler()\n",
    "\n",
    "X_train_standard = standard_scaler.fit_transform(X_train_encoded)\n",
    "X_train_standard = pd.DataFrame(X_train_standard, columns=X_train_encoded.columns)\n",
    "\n",
    "X_val_standard = standard_scaler.transform(X_val_encoded)\n",
    "X_val_standard = pd.DataFrame(X_val_standard, columns=X_val_encoded.columns)\n",
    "\n",
    "X_train_min_max = min_max_scaler.fit_transform(X_train_encoded)\n",
    "X_train_min_max = pd.DataFrame(X_train_min_max, columns=X_train_encoded.columns)\n",
    "\n",
    "X_val_min_max = min_max_scaler.transform(X_val_encoded)\n",
    "X_val_min_max = pd.DataFrame(X_val_min_max, columns=X_val_encoded.columns)"
   ],
   "metadata": {
    "collapsed": false,
    "ExecuteTime": {
     "end_time": "2023-12-10T20:26:57.386307800Z",
     "start_time": "2023-12-10T20:26:57.372050600Z"
    }
   },
   "id": "94b21c000f8f2a32"
  },
  {
   "cell_type": "code",
   "execution_count": 116,
   "outputs": [],
   "source": [
    "best_score_standard = float('inf')\n",
    "best_params_standard = None\n",
    "\n",
    "for n_estimators in n_estimators_values:\n",
    "    for max_depth in max_depth_values:\n",
    "        for max_samples in max_samples_values:\n",
    "            curent_forest = CustomRandomForest(n_estimators=n_estimators, max_depth=max_depth, max_samples=max_samples)\n",
    "            curent_forest.fit(X_train_standard, Ytrain)\n",
    "            y_pred = curent_forest.predict(X_val_standard)\n",
    "            mse = mean_squared_error(Yval, y_pred, squared=False)\n",
    "\n",
    "            if mse < best_score_standard:\n",
    "                best_score_standard = mse\n",
    "                best_params_standard = {'n_estimators': n_estimators, 'max_depth': max_depth, 'max_samples': max_samples, 'rmse' : mse}\n"
   ],
   "metadata": {
    "collapsed": false,
    "ExecuteTime": {
     "end_time": "2023-12-10T20:29:02.082591100Z",
     "start_time": "2023-12-10T20:26:57.387280600Z"
    }
   },
   "id": "377fdc42f2c45515"
  },
  {
   "cell_type": "code",
   "execution_count": 117,
   "outputs": [],
   "source": [
    "best_score_min_max = float('inf')\n",
    "best_params_min_max = None\n",
    "\n",
    "for n_estimators in n_estimators_values:\n",
    "    for max_depth in max_depth_values:\n",
    "        for max_samples in max_samples_values:\n",
    "            curent_forest = CustomRandomForest(n_estimators=n_estimators, max_depth=max_depth, max_samples=max_samples)\n",
    "            curent_forest.fit(X_train_min_max, Ytrain)\n",
    "            y_pred = curent_forest.predict(X_val_min_max)\n",
    "            mse = mean_squared_error(Yval, y_pred, squared=False)\n",
    "\n",
    "            if mse < best_score_min_max:\n",
    "                best_score_min_max = mse\n",
    "                best_params_min_max = {'n_estimators': n_estimators, 'max_depth': max_depth, 'max_samples': max_samples, 'rmse' : mse}"
   ],
   "metadata": {
    "collapsed": false,
    "ExecuteTime": {
     "end_time": "2023-12-10T20:31:04.731505Z",
     "start_time": "2023-12-10T20:29:02.085592400Z"
    }
   },
   "id": "a69576697a6650d1"
  },
  {
   "cell_type": "code",
   "execution_count": 118,
   "outputs": [
    {
     "name": "stdout",
     "output_type": "stream",
     "text": [
      "Best params for random forests:\n",
      "Original data: {'n_estimators': 20, 'max_depth': 8, 'max_samples': 1501, 'rmse': 2.9808665674556725}\n",
      "Standard scaled data: {'n_estimators': 35, 'max_depth': 8, 'max_samples': 1501, 'rmse': 2.9817433950847865}\n",
      "Min max scaled data: {'n_estimators': 20, 'max_depth': 8, 'max_samples': 1501, 'rmse': 2.9939002696402333}\n"
     ]
    }
   ],
   "source": [
    "print(f\"Best params for random forests:\\nOriginal data: {best_params}\\nStandard scaled data: {best_params_standard}\\nMin max scaled data: {best_params_min_max}\")"
   ],
   "metadata": {
    "collapsed": false,
    "ExecuteTime": {
     "end_time": "2023-12-10T20:31:04.737741700Z",
     "start_time": "2023-12-10T20:31:04.735184900Z"
    }
   },
   "id": "a968f87172317cad"
  },
  {
   "cell_type": "code",
   "execution_count": 119,
   "outputs": [],
   "source": [
    "from sklearn.linear_model import Ridge\n",
    "from scipy import optimize\n",
    "\n",
    "def get_opt_ridge_model(train, train_y, val, val_y):\n",
    "    def ridgemodel_eval(alpha):\n",
    "        clf = Ridge(alpha=alpha)\n",
    "        clf.fit(train, train_y)\n",
    "        return mean_squared_error(val_y, clf.predict(val), squared = False)\n",
    "\n",
    "    alphas = np.linspace(1,500,100)\n",
    "    alphas_res = [ridgemodel_eval(alpha) for alpha in alphas]\n",
    "    plt.plot(alphas, alphas_res, '.')\n",
    "    plt.show()\n",
    "\n",
    "    # Find Ridge alpha automatically\n",
    "    opt_alpha = optimize.minimize_scalar(ridgemodel_eval, options = {'maxiter': 30}, method = 'bounded', bounds=(0.1, 400))\n",
    "    print('Optimal alpha', opt_alpha)\n",
    "    print(\"\\n\")\n",
    "\n",
    "    clf_opt_ridge = Ridge(alpha = opt_alpha.x)\n",
    "    clf_opt_ridge.fit(train, train_y)\n",
    "    return clf_opt_ridge"
   ],
   "metadata": {
    "collapsed": false,
    "ExecuteTime": {
     "end_time": "2023-12-10T20:31:04.755204700Z",
     "start_time": "2023-12-10T20:31:04.740740600Z"
    }
   },
   "id": "b66248373594f9b6"
  },
  {
   "cell_type": "code",
   "execution_count": 119,
   "outputs": [],
   "source": [
    "\n"
   ],
   "metadata": {
    "collapsed": false,
    "ExecuteTime": {
     "end_time": "2023-12-10T20:31:04.755204700Z",
     "start_time": "2023-12-10T20:31:04.746458300Z"
    }
   },
   "id": "5635f43984c34efc"
  },
  {
   "cell_type": "code",
   "execution_count": 132,
   "outputs": [
    {
     "name": "stdout",
     "output_type": "stream",
     "text": [
      "We found the best params {'n_estimators': 70, 'max_depth': 8} with validation data with RMSE 2.39752.\n",
      "We found the best params {'n_estimators': 80, 'max_depth': 8} with validation standard scaled data with RMSE 2.17219.\n",
      "We found the best params {'n_estimators': 80, 'max_depth': 8} with validation min max scaled data with RMSE 2.20198.\n"
     ]
    }
   ],
   "source": [
    "from sklearn.ensemble import AdaBoostRegressor\n",
    "import sklearn.metrics as metrics\n",
    "\n",
    "param_grid = {\n",
    "    'n_estimators': range(10, 100, 10),\n",
    "    'max_depth': range(2,9)\n",
    "}\n",
    "\n",
    "param_comb = ParameterGrid(param_grid)\n",
    "\n",
    "val_metric_encoded = []\n",
    "for params in param_comb:\n",
    "    dt_depth = params.pop(\"max_depth\")\n",
    "    params[\"estimator\"] = DecisionTreeRegressor(max_depth = dt_depth)\n",
    "    dt = AdaBoostRegressor(**params, random_state = 42).fit(X_train_encoded, Ytrain)\n",
    "    val_metric_encoded.append(metrics.mean_squared_error(Yval, dt.predict(X_val_encoded), squared = False))\n",
    "\n",
    "best_params = param_comb[np.argmin(val_metric_encoded)]\n",
    "print(f\"We found the best params {best_params} with validation data with RMSE {min(val_metric):.5f}.\")\n",
    "\n",
    "val_metric_standard = []\n",
    "for params in param_comb:\n",
    "    dt_depth = params.pop(\"max_depth\")\n",
    "    params[\"estimator\"] = DecisionTreeRegressor(max_depth = dt_depth)\n",
    "    dt = AdaBoostRegressor(**params, random_state = 42).fit(X_train_standard, Ytrain)\n",
    "    val_metric_standard.append(metrics.mean_squared_error(Yval, dt.predict(X_val_standard), squared = False))\n",
    "\n",
    "best_params_standard = param_comb[np.argmin(val_metric_standard)]\n",
    "print(f\"We found the best params {best_params_standard} with validation standard scaled data with RMSE {min(val_metric_standard):.5f}.\")\n",
    "\n",
    "val_metric_min_max = []\n",
    "for params in param_comb:\n",
    "    dt_depth = params.pop(\"max_depth\")\n",
    "    params[\"estimator\"] = DecisionTreeRegressor(max_depth = dt_depth)\n",
    "    dt = AdaBoostRegressor(**params, random_state = 42).fit(X_train_min_max, Ytrain)\n",
    "    val_metric_min_max.append(metrics.mean_squared_error(Yval, dt.predict(X_val_min_max), squared = False))\n",
    "\n",
    "best_params_min_max = param_comb[np.argmin(val_metric_min_max)]\n",
    "print(f\"We found the best params {best_params_min_max} with validation min max scaled data with RMSE {min(val_metric_min_max):.5f}.\")\n"
   ],
   "metadata": {
    "collapsed": false,
    "ExecuteTime": {
     "end_time": "2023-12-10T20:51:04.458112700Z",
     "start_time": "2023-12-10T20:49:32.404594100Z"
    }
   },
   "id": "7e120f3c7727bec4"
  },
  {
   "cell_type": "code",
   "execution_count": 131,
   "outputs": [
    {
     "name": "stdout",
     "output_type": "stream",
     "text": [
      "6.926547378370142\n"
     ]
    }
   ],
   "source": [
    "tree = DecisionTreeRegressor(max_depth=8)\n",
    "adaboost = AdaBoostRegressor(estimator=tree, n_estimators=80, random_state=42).fit(X_train_standard, Ytrain)\n",
    "print(metrics.mean_squared_error(Yval, dt.predict(X_val_standard), squared = False))"
   ],
   "metadata": {
    "collapsed": false,
    "ExecuteTime": {
     "end_time": "2023-12-10T20:48:14.417990300Z",
     "start_time": "2023-12-10T20:48:13.030466600Z"
    }
   },
   "id": "7de61261a8db88ca"
  },
  {
   "cell_type": "code",
   "execution_count": null,
   "outputs": [],
   "source": [],
   "metadata": {
    "collapsed": false
   },
   "id": "2221c1864223aa45"
  }
 ],
 "metadata": {
  "kernelspec": {
   "display_name": "Python 3 (ipykernel)",
   "language": "python",
   "name": "python3"
  },
  "language_info": {
   "codemirror_mode": {
    "name": "ipython",
    "version": 3
   },
   "file_extension": ".py",
   "mimetype": "text/x-python",
   "name": "python",
   "nbconvert_exporter": "python",
   "pygments_lexer": "ipython3",
   "version": "3.10.11"
  }
 },
 "nbformat": 4,
 "nbformat_minor": 5
}
